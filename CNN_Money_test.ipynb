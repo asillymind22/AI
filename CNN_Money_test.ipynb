{
  "nbformat": 4,
  "nbformat_minor": 0,
  "metadata": {
    "colab": {
      "name": "CNN_Money_test",
      "provenance": [],
      "collapsed_sections": [],
      "authorship_tag": "ABX9TyOoKTWq4ZEaJ7/VU6LhwPNi",
      "include_colab_link": true
    },
    "kernelspec": {
      "name": "python3",
      "display_name": "Python 3"
    },
    "language_info": {
      "name": "python"
    },
    "accelerator": "GPU"
  },
  "cells": [
    {
      "cell_type": "markdown",
      "metadata": {
        "id": "view-in-github",
        "colab_type": "text"
      },
      "source": [
        "<a href=\"https://colab.research.google.com/github/asillymind22/AI/blob/main/CNN_Money_test.ipynb\" target=\"_parent\"><img src=\"https://colab.research.google.com/assets/colab-badge.svg\" alt=\"Open In Colab\"/></a>"
      ]
    },
    {
      "cell_type": "code",
      "execution_count": null,
      "metadata": {
        "colab": {
          "base_uri": "https://localhost:8080/"
        },
        "id": "RXINgKdrTiky",
        "outputId": "fb79ac33-2dd8-493b-c83a-1fd93b0f90f9"
      },
      "outputs": [
        {
          "output_type": "stream",
          "name": "stdout",
          "text": [
            "Mounted at /content/gdrive\n"
          ]
        }
      ],
      "source": [
        "from google.colab import drive\n",
        "drive.mount('/content/gdrive')"
      ]
    },
    {
      "cell_type": "code",
      "source": [
        "from keras import datasets, Sequential\n",
        "from keras.layers import Conv2D, Dense, MaxPooling2D, Flatten\n",
        "import matplotlib.pyplot as plt\n",
        "from sklearn.metrics import confusion_matrix\n",
        "import numpy as np\n",
        "from keras.utils import np_utils\n",
        "from keras.datasets import cifar10\n",
        "import matplotlib.pyplot as plt\n",
        "from keras.preprocessing import  image\n",
        "from keras.preprocessing.image import load_img, img_to_array,array_to_img,ImageDataGenerator\n",
        "import numpy as np\n",
        "import os"
      ],
      "metadata": {
        "id": "Z5Z_eSA5T-v3"
      },
      "execution_count": null,
      "outputs": []
    },
    {
      "cell_type": "code",
      "source": [
        "danhsach = ['1000','2000','5000','10000','20000','50000','100000','200000','500000']\n",
        "!ls /content/gdrive/MyDrive/AIDRIVE/Money"
      ],
      "metadata": {
        "colab": {
          "base_uri": "https://localhost:8080/"
        },
        "id": "mpX2jMnHT_YH",
        "outputId": "f8bea82e-4f64-4606-c79b-876434b38ec5"
      },
      "execution_count": null,
      "outputs": [
        {
          "output_type": "stream",
          "name": "stdout",
          "text": [
            "1000  10000  100000  2000  20000  200000  5000\t50000  500000\n"
          ]
        }
      ]
    },
    {
      "cell_type": "code",
      "source": [
        "dir_train = '/content/gdrive/MyDrive/AIDRIVE/Money'"
      ],
      "metadata": {
        "id": "1f2ycOMgUV3n"
      },
      "execution_count": null,
      "outputs": []
    },
    {
      "cell_type": "code",
      "source": [
        "distpath = []\n",
        "y_train = []\n",
        "x_train = []\n",
        "x_test = []\n",
        "y_test = []\n",
        "def create_data(dir, x_train, y_train):\n",
        "  for i in danhsach:\n",
        "    path = os.path.join(dir,i)\n",
        "    index_label = danhsach.index(i)\n",
        "    for j in os.listdir(path):\n",
        "      img_path = os.path.join(path, j)\n",
        "      img = image.load_img(img_path, target_size=(32,32)) \n",
        "      img = img_to_array(img)\n",
        "      img = img.reshape(32,32,3)\n",
        "      img = img.astype('float32')\n",
        "      img = img/255\n",
        "      x_train.append(img)\n",
        "      y_train.append(index_label)\n"
      ],
      "metadata": {
        "id": "d0RWROj6UXYh"
      },
      "execution_count": null,
      "outputs": []
    },
    {
      "cell_type": "code",
      "source": [
        "create_data(dir_train, x_train, y_train)  \n",
        "x_train = np.array(x_train)\n",
        "y_train = np.array(y_train)\n",
        "y_train = np_utils.to_categorical(y_train, 9)\n",
        "print(x_train.shape)\n",
        "print(y_train.shape)"
      ],
      "metadata": {
        "colab": {
          "base_uri": "https://localhost:8080/"
        },
        "id": "VoSOa2zLUaBP",
        "outputId": "fce87c9b-f871-4ecb-e7d6-cabeec579d33"
      },
      "execution_count": null,
      "outputs": [
        {
          "output_type": "stream",
          "name": "stdout",
          "text": [
            "(90, 32, 32, 3)\n",
            "(90, 9)\n"
          ]
        }
      ]
    },
    {
      "cell_type": "code",
      "source": [
        "model = Sequential()\n",
        "model.add(Conv2D(32, (3, 3), activation='relu', kernel_initializer='he_uniform', input_shape=(32, 32, 3)))\n",
        "model.add(MaxPooling2D((2, 2)))\n",
        "model.add(Flatten())\n",
        "model.add(Dense(100, activation='relu', kernel_initializer='he_uniform'))\n",
        "model.add(Dense(9, activation='softmax'))"
      ],
      "metadata": {
        "id": "rU7KDAmkUctw"
      },
      "execution_count": null,
      "outputs": []
    },
    {
      "cell_type": "code",
      "source": [
        "from tensorflow.keras.optimizers import SGD"
      ],
      "metadata": {
        "id": "R6PwVptRUdi3"
      },
      "execution_count": null,
      "outputs": []
    },
    {
      "cell_type": "code",
      "source": [
        "opt=SGD(learning_rate=0.01,momentum=0.9)\n",
        "model.compile(loss='binary_crossentropy',optimizer=opt, metrics=['accuracy'])\n",
        "history = model.fit(x_train,y_train,epochs = 30,batch_size= 30,verbose=1)"
      ],
      "metadata": {
        "colab": {
          "base_uri": "https://localhost:8080/"
        },
        "id": "fW9zer2pUezO",
        "outputId": "346670da-9cef-4248-e430-f3a77b4f8001"
      },
      "execution_count": null,
      "outputs": [
        {
          "output_type": "stream",
          "name": "stdout",
          "text": [
            "Epoch 1/30\n",
            "3/3 [==============================] - 1s 35ms/step - loss: 0.6009 - accuracy: 0.1444\n",
            "Epoch 2/30\n",
            "3/3 [==============================] - 0s 32ms/step - loss: 0.3795 - accuracy: 0.1222\n",
            "Epoch 3/30\n",
            "3/3 [==============================] - 0s 29ms/step - loss: 0.4168 - accuracy: 0.1000\n",
            "Epoch 4/30\n",
            "3/3 [==============================] - 0s 31ms/step - loss: 0.4008 - accuracy: 0.1222\n",
            "Epoch 5/30\n",
            "3/3 [==============================] - 0s 27ms/step - loss: 0.3630 - accuracy: 0.1556\n",
            "Epoch 6/30\n",
            "3/3 [==============================] - 0s 31ms/step - loss: 0.3443 - accuracy: 0.2889\n",
            "Epoch 7/30\n",
            "3/3 [==============================] - 0s 29ms/step - loss: 0.3425 - accuracy: 0.2333\n",
            "Epoch 8/30\n",
            "3/3 [==============================] - 0s 29ms/step - loss: 0.3348 - accuracy: 0.2111\n",
            "Epoch 9/30\n",
            "3/3 [==============================] - 0s 25ms/step - loss: 0.3247 - accuracy: 0.3556\n",
            "Epoch 10/30\n",
            "3/3 [==============================] - 0s 32ms/step - loss: 0.3164 - accuracy: 0.4000\n",
            "Epoch 11/30\n",
            "3/3 [==============================] - 0s 32ms/step - loss: 0.3134 - accuracy: 0.4667\n",
            "Epoch 12/30\n",
            "3/3 [==============================] - 0s 29ms/step - loss: 0.3077 - accuracy: 0.4000\n",
            "Epoch 13/30\n",
            "3/3 [==============================] - 0s 30ms/step - loss: 0.3027 - accuracy: 0.4778\n",
            "Epoch 14/30\n",
            "3/3 [==============================] - 0s 30ms/step - loss: 0.2949 - accuracy: 0.7111\n",
            "Epoch 15/30\n",
            "3/3 [==============================] - 0s 25ms/step - loss: 0.2913 - accuracy: 0.7111\n",
            "Epoch 16/30\n",
            "3/3 [==============================] - 0s 25ms/step - loss: 0.2894 - accuracy: 0.6111\n",
            "Epoch 17/30\n",
            "3/3 [==============================] - 0s 25ms/step - loss: 0.2828 - accuracy: 0.6667\n",
            "Epoch 18/30\n",
            "3/3 [==============================] - 0s 27ms/step - loss: 0.2766 - accuracy: 0.7222\n",
            "Epoch 19/30\n",
            "3/3 [==============================] - 0s 27ms/step - loss: 0.2712 - accuracy: 0.8000\n",
            "Epoch 20/30\n",
            "3/3 [==============================] - 0s 29ms/step - loss: 0.2670 - accuracy: 0.7667\n",
            "Epoch 21/30\n",
            "3/3 [==============================] - 0s 25ms/step - loss: 0.2610 - accuracy: 0.8111\n",
            "Epoch 22/30\n",
            "3/3 [==============================] - 0s 32ms/step - loss: 0.2580 - accuracy: 0.7667\n",
            "Epoch 23/30\n",
            "3/3 [==============================] - 0s 31ms/step - loss: 0.2519 - accuracy: 0.8000\n",
            "Epoch 24/30\n",
            "3/3 [==============================] - 0s 28ms/step - loss: 0.2498 - accuracy: 0.7667\n",
            "Epoch 25/30\n",
            "3/3 [==============================] - 0s 27ms/step - loss: 0.2461 - accuracy: 0.7889\n",
            "Epoch 26/30\n",
            "3/3 [==============================] - 0s 27ms/step - loss: 0.2413 - accuracy: 0.8111\n",
            "Epoch 27/30\n",
            "3/3 [==============================] - 0s 28ms/step - loss: 0.2378 - accuracy: 0.8444\n",
            "Epoch 28/30\n",
            "3/3 [==============================] - 0s 27ms/step - loss: 0.2310 - accuracy: 0.9111\n",
            "Epoch 29/30\n",
            "3/3 [==============================] - 0s 27ms/step - loss: 0.2298 - accuracy: 0.8444\n",
            "Epoch 30/30\n",
            "3/3 [==============================] - 0s 30ms/step - loss: 0.2262 - accuracy: 0.8000\n"
          ]
        }
      ]
    },
    {
      "cell_type": "code",
      "source": [
        "model.save('CNN_Money_test')"
      ],
      "metadata": {
        "colab": {
          "base_uri": "https://localhost:8080/"
        },
        "id": "ue4emvcAUgGB",
        "outputId": "1d564d5d-bcac-43f8-d0fc-fbda30bb5c29"
      },
      "execution_count": null,
      "outputs": [
        {
          "output_type": "stream",
          "name": "stdout",
          "text": [
            "INFO:tensorflow:Assets written to: CNN_Money_test/assets\n"
          ]
        }
      ]
    },
    {
      "cell_type": "code",
      "source": [
        "from tensorflow.keras.utils import load_img\n",
        "from tensorflow.keras.utils import img_to_array\n",
        "from pathlib import Path\n",
        "from PIL import Image"
      ],
      "metadata": {
        "id": "hgLsACbCUj1m"
      },
      "execution_count": null,
      "outputs": []
    },
    {
      "cell_type": "code",
      "source": [
        "img = load_img('/content/500000vnd.jpg',target_size=(32,32))\n",
        "plt.imshow(img)\n",
        "img = np.reshape(img,[1,32,32,3])\n",
        "img = img.astype('float32')\n",
        "img = img/255\n",
        "np.argmax(model.predict(img))"
      ],
      "metadata": {
        "colab": {
          "base_uri": "https://localhost:8080/",
          "height": 284
        },
        "id": "qO7lCpLgUlGe",
        "outputId": "cae715c0-46c6-466f-dce0-ec7b132cc8b5"
      },
      "execution_count": null,
      "outputs": [
        {
          "output_type": "execute_result",
          "data": {
            "text/plain": [
              "6"
            ]
          },
          "metadata": {},
          "execution_count": 15
        },
        {
          "output_type": "display_data",
          "data": {
            "text/plain": [
              "<Figure size 432x288 with 1 Axes>"
            ],
            "image/png": "[encoded data removed]"
          },
          "metadata": {
            "needs_background": "light"
          }
        }
      ]
    }
  ]
}