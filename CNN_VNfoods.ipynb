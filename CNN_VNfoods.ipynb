{
  "nbformat": 4,
  "nbformat_minor": 0,
  "metadata": {
    "colab": {
      "name": "CNN_VNfoods",
      "provenance": [],
      "collapsed_sections": [],
      "authorship_tag": "ABX9TyPIaFIGyDJm3l1GblLWtlal",
      "include_colab_link": true
    },
    "kernelspec": {
      "name": "python3",
      "display_name": "Python 3"
    },
    "language_info": {
      "name": "python"
    },
    "accelerator": "GPU"
  },
  "cells": [
    {
      "cell_type": "markdown",
      "metadata": {
        "id": "view-in-github",
        "colab_type": "text"
      },
      "source": [
        "<a href=\"https://colab.research.google.com/github/asillymind22/AI/blob/main/CNN_VNfoods.ipynb\" target=\"_parent\"><img src=\"https://colab.research.google.com/assets/colab-badge.svg\" alt=\"Open In Colab\"/></a>"
      ]
    },
    {
      "cell_type": "code",
      "execution_count": null,
      "metadata": {
        "colab": {
          "base_uri": "https://localhost:8080/"
        },
        "id": "B2YtxocW8A6n",
        "outputId": "6be0786c-aca9-4bfc-ec37-1916e0f2a311"
      },
      "outputs": [
        {
          "output_type": "stream",
          "name": "stdout",
          "text": [
            "Drive already mounted at /content/gdrive; to attempt to forcibly remount, call drive.mount(\"/content/gdrive\", force_remount=True).\n"
          ]
        }
      ],
      "source": [
        "from google.colab import drive\n",
        "drive.mount('/content/gdrive')"
      ]
    },
    {
      "cell_type": "code",
      "source": [
        "from keras import datasets, Sequential\n",
        "from keras.layers import Conv2D, Dense, MaxPooling2D, Flatten\n",
        "import matplotlib.pyplot as plt\n",
        "from sklearn.metrics import confusion_matrix\n",
        "import numpy as np\n",
        "from keras.utils import np_utils\n",
        "from keras.datasets import cifar10\n",
        "import matplotlib.pyplot as plt\n",
        "from keras.preprocessing import  image\n",
        "from keras.preprocessing.image import load_img, img_to_array,array_to_img,ImageDataGenerator\n",
        "import numpy as np\n",
        "import os"
      ],
      "metadata": {
        "id": "HZyGwsqw9H5t"
      },
      "execution_count": null,
      "outputs": []
    },
    {
      "cell_type": "code",
      "source": [
        "danhsach = ['banhchuoinuong','banhgio','banhmi','banhxeo','cafetrung','chagio','goicuon','nemchua','nemnuong','pho']\n",
        "!ls /content/gdrive/MyDrive/AIDRIVE/Food/Train\n",
        "!ls /content/gdrive/MyDrive/AIDRIVE/Food/Train/banhchuoinuong"
      ],
      "metadata": {
        "colab": {
          "base_uri": "https://localhost:8080/"
        },
        "id": "xXzINFWN9OSc",
        "outputId": "61bab3e9-30e1-4d4a-de5a-9fd83615e252"
      },
      "execution_count": null,
      "outputs": [
        {
          "output_type": "stream",
          "name": "stdout",
          "text": [
            "banhchuoinuong\tbanhmi\t cafetrung  goicuon  nemnuong\n",
            "banhgio\t\tbanhxeo  chagio     nemchua  pho\n",
            "10.JPG\t12.JPG\t14.JPG\t1.JPG  3.JPG  5.JPG  7.JPG  9.JPG\n",
            "11.JPG\t13.JPG\t15.JPG\t2.JPG  4.JPG  6.JPG  8.JPG\n"
          ]
        }
      ]
    },
    {
      "cell_type": "code",
      "source": [
        "dir_train = '/content/gdrive/MyDrive/AIDRIVE/Food/Train'"
      ],
      "metadata": {
        "id": "MdQeLCJ8ADsn"
      },
      "execution_count": null,
      "outputs": []
    },
    {
      "cell_type": "code",
      "source": [
        "distpath = []\n",
        "y_train = []\n",
        "x_train = []\n",
        "x_test = []\n",
        "y_test = []\n",
        "def create_data(dir, x_train, y_train):\n",
        "  for i in danhsach:\n",
        "    path = os.path.join(dir,i)\n",
        "    index_label = danhsach.index(i)\n",
        "    for j in os.listdir(path):\n",
        "      img_path = os.path.join(path, j)\n",
        "      img = image.load_img(img_path, target_size=(32,32)) \n",
        "      img = img_to_array(img)\n",
        "      img = img.reshape(32,32,3)\n",
        "      img = img.astype('float32')\n",
        "      img = img/255\n",
        "      x_train.append(img)\n",
        "      y_train.append(index_label)\n"
      ],
      "metadata": {
        "colab": {
          "base_uri": "https://localhost:8080/"
        },
        "id": "7uiDDvx591-t",
        "outputId": "7c766dc0-54e0-4686-8740-1ecd100c7686"
      },
      "execution_count": null,
      "outputs": [
        {
          "output_type": "stream",
          "name": "stdout",
          "text": [
            "(149, 32, 32, 3)\n",
            "(149, 10)\n"
          ]
        }
      ]
    },
    {
      "cell_type": "code",
      "source": [
        "create_data(dir_train, x_train, y_train)  \n",
        "x_train = np.array(x_train)\n",
        "y_train = np.array(y_train)\n",
        "y_train = np_utils.to_categorical(y_train, 10)\n",
        "print(x_train.shape)\n",
        "print(y_train.shape)"
      ],
      "metadata": {
        "id": "vRxMX9cjLhXc"
      },
      "execution_count": null,
      "outputs": []
    },
    {
      "cell_type": "code",
      "source": [
        "model = Sequential()\n",
        "model.add(Conv2D(32,(3,3), activation='relu',kernel_initializer='he_uniform',padding='same', input_shape=(32, 32, 3)))\n",
        "model.add(Conv2D(32, (3, 3), activation='relu', kernel_initializer='he_uniform', padding='same'))\n",
        "model.add(MaxPooling2D((2, 2)))\n",
        "model.add(Conv2D(64, (3, 3), activation='relu', kernel_initializer='he_uniform', padding='same'))\n",
        "model.add(Conv2D(64, (3, 3), activation='relu', kernel_initializer='he_uniform', padding='same'))\n",
        "model.add(MaxPooling2D((2, 2)))\n",
        "model.add(Conv2D(128, (3, 3), activation='relu', kernel_initializer='he_uniform', padding='same'))\n",
        "model.add(Conv2D(128, (3, 3), activation='relu', kernel_initializer='he_uniform', padding='same'))\n",
        "model.add(MaxPooling2D((2, 2)))\n",
        "model.add(Flatten())\n",
        "model.add(Dense(10,activation='softmax'))"
      ],
      "metadata": {
        "id": "ltrQGI65A-Vu"
      },
      "execution_count": null,
      "outputs": []
    },
    {
      "cell_type": "code",
      "source": [
        "from tensorflow.keras.optimizers import SGD"
      ],
      "metadata": {
        "id": "N-TG1OnlHRRK"
      },
      "execution_count": null,
      "outputs": []
    },
    {
      "cell_type": "code",
      "source": [
        "opt= SGD(lr=0.01,momentum=0.9)\n",
        "model.compile(optimizer = opt,loss='categorical_crossentropy',metrics=['accuracy'])"
      ],
      "metadata": {
        "colab": {
          "base_uri": "https://localhost:8080/"
        },
        "id": "FbrzLj9AHUDS",
        "outputId": "ce61a3f6-b766-481b-b26b-c4ebc2431441"
      },
      "execution_count": null,
      "outputs": [
        {
          "output_type": "stream",
          "name": "stderr",
          "text": [
            "/usr/local/lib/python3.7/dist-packages/keras/optimizer_v2/gradient_descent.py:102: UserWarning: The `lr` argument is deprecated, use `learning_rate` instead.\n",
            "  super(SGD, self).__init__(name, **kwargs)\n"
          ]
        }
      ]
    },
    {
      "cell_type": "code",
      "source": [
        "history = model.fit(x_train,y_train,epochs=50,batch_size=60,verbose = 1)"
      ],
      "metadata": {
        "colab": {
          "base_uri": "https://localhost:8080/"
        },
        "id": "bT1ET9PMHVLh",
        "outputId": "ad243df2-8b7d-4fda-bf02-caa99773fb71"
      },
      "execution_count": null,
      "outputs": [
        {
          "output_type": "stream",
          "name": "stdout",
          "text": [
            "Epoch 1/50\n",
            "3/3 [==============================] - 2s 329ms/step - loss: 2.5745 - accuracy: 0.0604\n",
            "Epoch 2/50\n",
            "3/3 [==============================] - 1s 317ms/step - loss: 2.3209 - accuracy: 0.1007\n",
            "Epoch 3/50\n",
            "3/3 [==============================] - 1s 316ms/step - loss: 2.2841 - accuracy: 0.1141\n",
            "Epoch 4/50\n",
            "3/3 [==============================] - 1s 320ms/step - loss: 2.2691 - accuracy: 0.1812\n",
            "Epoch 5/50\n",
            "3/3 [==============================] - 1s 319ms/step - loss: 2.2514 - accuracy: 0.1544\n",
            "Epoch 6/50\n",
            "3/3 [==============================] - 1s 317ms/step - loss: 2.2067 - accuracy: 0.2416\n",
            "Epoch 7/50\n",
            "3/3 [==============================] - 1s 315ms/step - loss: 2.1689 - accuracy: 0.1745\n",
            "Epoch 8/50\n",
            "3/3 [==============================] - 1s 317ms/step - loss: 2.0942 - accuracy: 0.3020\n",
            "Epoch 9/50\n",
            "3/3 [==============================] - 1s 315ms/step - loss: 2.0627 - accuracy: 0.2550\n",
            "Epoch 10/50\n",
            "3/3 [==============================] - 1s 313ms/step - loss: 2.0296 - accuracy: 0.2886\n",
            "Epoch 11/50\n",
            "3/3 [==============================] - 1s 319ms/step - loss: 1.7752 - accuracy: 0.4564\n",
            "Epoch 12/50\n",
            "3/3 [==============================] - 1s 329ms/step - loss: 1.8108 - accuracy: 0.4564\n",
            "Epoch 13/50\n",
            "3/3 [==============================] - 1s 311ms/step - loss: 2.1293 - accuracy: 0.2215\n",
            "Epoch 14/50\n",
            "3/3 [==============================] - 1s 311ms/step - loss: 1.8611 - accuracy: 0.3826\n",
            "Epoch 15/50\n",
            "3/3 [==============================] - 1s 317ms/step - loss: 1.7981 - accuracy: 0.4966\n",
            "Epoch 16/50\n",
            "3/3 [==============================] - 1s 314ms/step - loss: 1.5162 - accuracy: 0.5772\n",
            "Epoch 17/50\n",
            "3/3 [==============================] - 1s 315ms/step - loss: 1.2542 - accuracy: 0.5772\n",
            "Epoch 18/50\n",
            "3/3 [==============================] - 1s 310ms/step - loss: 1.3505 - accuracy: 0.5570\n",
            "Epoch 19/50\n",
            "3/3 [==============================] - 1s 316ms/step - loss: 1.3369 - accuracy: 0.5302\n",
            "Epoch 20/50\n",
            "3/3 [==============================] - 1s 314ms/step - loss: 1.0810 - accuracy: 0.6711\n",
            "Epoch 21/50\n",
            "3/3 [==============================] - 1s 313ms/step - loss: 1.1586 - accuracy: 0.6242\n",
            "Epoch 22/50\n",
            "3/3 [==============================] - 1s 314ms/step - loss: 0.6064 - accuracy: 0.8658\n",
            "Epoch 23/50\n",
            "3/3 [==============================] - 1s 311ms/step - loss: 0.6199 - accuracy: 0.8121\n",
            "Epoch 24/50\n",
            "3/3 [==============================] - 1s 313ms/step - loss: 0.4908 - accuracy: 0.8322\n",
            "Epoch 25/50\n",
            "3/3 [==============================] - 1s 314ms/step - loss: 0.4067 - accuracy: 0.8658\n",
            "Epoch 26/50\n",
            "3/3 [==============================] - 1s 317ms/step - loss: 0.2233 - accuracy: 0.9262\n",
            "Epoch 27/50\n",
            "3/3 [==============================] - 1s 318ms/step - loss: 0.1294 - accuracy: 0.9597\n",
            "Epoch 28/50\n",
            "3/3 [==============================] - 1s 317ms/step - loss: 0.1708 - accuracy: 0.9530\n",
            "Epoch 29/50\n",
            "3/3 [==============================] - 1s 317ms/step - loss: 0.1812 - accuracy: 0.9262\n",
            "Epoch 30/50\n",
            "3/3 [==============================] - 1s 317ms/step - loss: 0.1143 - accuracy: 0.9664\n",
            "Epoch 31/50\n",
            "3/3 [==============================] - 1s 317ms/step - loss: 0.0466 - accuracy: 0.9933\n",
            "Epoch 32/50\n",
            "3/3 [==============================] - 1s 315ms/step - loss: 0.0412 - accuracy: 0.9933\n",
            "Epoch 33/50\n",
            "3/3 [==============================] - 1s 333ms/step - loss: 0.0172 - accuracy: 1.0000\n",
            "Epoch 34/50\n",
            "3/3 [==============================] - 1s 323ms/step - loss: 0.0211 - accuracy: 0.9933\n",
            "Epoch 35/50\n",
            "3/3 [==============================] - 1s 320ms/step - loss: 0.0242 - accuracy: 1.0000\n",
            "Epoch 36/50\n",
            "3/3 [==============================] - 1s 316ms/step - loss: 0.0123 - accuracy: 1.0000\n",
            "Epoch 37/50\n",
            "3/3 [==============================] - 1s 316ms/step - loss: 0.0054 - accuracy: 1.0000\n",
            "Epoch 38/50\n",
            "3/3 [==============================] - 1s 322ms/step - loss: 0.0023 - accuracy: 1.0000\n",
            "Epoch 39/50\n",
            "3/3 [==============================] - 1s 316ms/step - loss: 0.0019 - accuracy: 1.0000\n",
            "Epoch 40/50\n",
            "3/3 [==============================] - 1s 321ms/step - loss: 0.0012 - accuracy: 1.0000\n",
            "Epoch 41/50\n",
            "3/3 [==============================] - 1s 323ms/step - loss: 7.7824e-04 - accuracy: 1.0000\n",
            "Epoch 42/50\n",
            "3/3 [==============================] - 1s 322ms/step - loss: 5.6681e-04 - accuracy: 1.0000\n",
            "Epoch 43/50\n",
            "3/3 [==============================] - 1s 318ms/step - loss: 4.3351e-04 - accuracy: 1.0000\n",
            "Epoch 44/50\n",
            "3/3 [==============================] - 1s 319ms/step - loss: 3.1842e-04 - accuracy: 1.0000\n",
            "Epoch 45/50\n",
            "3/3 [==============================] - 1s 318ms/step - loss: 2.3902e-04 - accuracy: 1.0000\n",
            "Epoch 46/50\n",
            "3/3 [==============================] - 1s 311ms/step - loss: 1.8857e-04 - accuracy: 1.0000\n",
            "Epoch 47/50\n",
            "3/3 [==============================] - 1s 312ms/step - loss: 1.5390e-04 - accuracy: 1.0000\n",
            "Epoch 48/50\n",
            "3/3 [==============================] - 1s 316ms/step - loss: 1.3562e-04 - accuracy: 1.0000\n",
            "Epoch 49/50\n",
            "3/3 [==============================] - 1s 308ms/step - loss: 1.1953e-04 - accuracy: 1.0000\n",
            "Epoch 50/50\n",
            "3/3 [==============================] - 1s 313ms/step - loss: 1.1055e-04 - accuracy: 1.0000\n"
          ]
        }
      ]
    },
    {
      "cell_type": "code",
      "source": [
        "model.save('CNN_food_test')"
      ],
      "metadata": {
        "colab": {
          "base_uri": "https://localhost:8080/"
        },
        "id": "0w0WCreEHapi",
        "outputId": "20a37241-b71a-4a4c-ac09-a5c5e4a1f999"
      },
      "execution_count": null,
      "outputs": [
        {
          "output_type": "stream",
          "name": "stdout",
          "text": [
            "INFO:tensorflow:Assets written to: CNN_food_test/assets\n"
          ]
        }
      ]
    },
    {
      "cell_type": "code",
      "source": [
        "from tensorflow.keras.utils import load_img\n",
        "from tensorflow.keras.utils import img_to_array\n",
        "from pathlib import Path\n",
        "from PIL import Image"
      ],
      "metadata": {
        "id": "8GEIPI53HdK9"
      },
      "execution_count": null,
      "outputs": []
    },
    {
      "cell_type": "code",
      "source": [
        "img = load_img('/content/nemchua.webp',target_size=(32,32))\n",
        "plt.imshow(img)\n",
        "img = np.reshape(img,[1,32,32,3])\n",
        "img = img.astype('float32')\n",
        "img = img/255\n",
        "np.argmax(model.predict(img))"
      ],
      "metadata": {
        "colab": {
          "base_uri": "https://localhost:8080/",
          "height": 283
        },
        "id": "56zYFKZsHe8M",
        "outputId": "276cd04b-e61b-49b2-9167-b260107ee042"
      },
      "execution_count": null,
      "outputs": [
        {
          "output_type": "execute_result",
          "data": {
            "text/plain": [
              "8"
            ]
          },
          "metadata": {},
          "execution_count": 68
        },
        {
          "output_type": "display_data",
          "data": {
            "text/plain": [
              "<Figure size 432x288 with 1 Axes>"
            ],
            "image/png": "[encoded data removed]"
          },
          "metadata": {
            "needs_background": "light"
          }
        }
      ]
    }
  ]
}