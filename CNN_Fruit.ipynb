{
  "cells": [
    {
      "cell_type": "markdown",
      "metadata": {
        "id": "view-in-github",
        "colab_type": "text"
      },
      "source": [
        "<a href=\"https://colab.research.google.com/github/asillymind22/AI/blob/main/CNN_Fruit.ipynb\" target=\"_parent\"><img src=\"https://colab.research.google.com/assets/colab-badge.svg\" alt=\"Open In Colab\"/></a>"
      ]
    },
    {
      "cell_type": "code",
      "execution_count": null,
      "metadata": {
        "colab": {
          "base_uri": "https://localhost:8080/"
        },
        "id": "JBbNbxU_LUSu",
        "outputId": "051e50ff-88f2-4dfa-e7d1-ed6492415f62"
      },
      "outputs": [
        {
          "output_type": "stream",
          "name": "stdout",
          "text": [
            "Mounted at /content/gdrive\n"
          ]
        }
      ],
      "source": [
        "from google.colab import drive\n",
        "drive.mount('/content/gdrive')"
      ]
    },
    {
      "cell_type": "code",
      "execution_count": null,
      "metadata": {
        "id": "s5g3hIPsLYGq"
      },
      "outputs": [],
      "source": [
        "from keras import datasets, Sequential\n",
        "from keras.layers import Conv2D, Dense, MaxPooling2D, Flatten\n",
        "import matplotlib.pyplot as plt\n",
        "from sklearn.metrics import confusion_matrix\n",
        "import numpy as np\n",
        "from keras.utils import np_utils\n",
        "from keras.datasets import cifar10\n",
        "import matplotlib.pyplot as plt\n",
        "from keras.preprocessing import  image\n",
        "from keras.preprocessing.image import load_img, img_to_array,array_to_img,ImageDataGenerator\n",
        "import numpy as np\n",
        "import os"
      ]
    },
    {
      "cell_type": "code",
      "execution_count": null,
      "metadata": {
        "colab": {
          "base_uri": "https://localhost:8080/"
        },
        "id": "389adqW6LZKS",
        "outputId": "c310012a-5da2-4cec-e47e-f9a940e5488e"
      },
      "outputs": [
        {
          "output_type": "stream",
          "name": "stdout",
          "text": [
            "cam  duahau  mangcut  oi  quadua  quaroi  quathom  saurieng  tao  xoai\n"
          ]
        }
      ],
      "source": [
        "danhsach = ['cam','duahau','mangcut','oi','quadua','quaroi','quathom','saurieng','tao','xoai']\n",
        "!ls /content/gdrive/MyDrive/AIDRIVE/Fruit"
      ]
    },
    {
      "cell_type": "code",
      "execution_count": null,
      "metadata": {
        "id": "NRS4jntiLbLz"
      },
      "outputs": [],
      "source": [
        "dir_train = '/content/gdrive/MyDrive/AIDRIVE/Fruit'"
      ]
    },
    {
      "cell_type": "code",
      "execution_count": null,
      "metadata": {
        "id": "Dkbm3F6LLd8L"
      },
      "outputs": [],
      "source": [
        "distpath = []\n",
        "y_train = []\n",
        "x_train = []\n",
        "x_test = []\n",
        "y_test = []\n",
        "def create_data(dir, x_train, y_train):\n",
        "  for i in danhsach:\n",
        "    path = os.path.join(dir,i)\n",
        "    index_label = danhsach.index(i)\n",
        "    for j in os.listdir(path):\n",
        "      img_path = os.path.join(path, j)\n",
        "      img = image.load_img(img_path, target_size=(32,32)) \n",
        "      img = img_to_array(img)\n",
        "      img = img.reshape(32,32,3)\n",
        "      img = img.astype('float32')\n",
        "      img = img/255\n",
        "      x_train.append(img)\n",
        "      y_train.append(index_label)\n"
      ]
    },
    {
      "cell_type": "code",
      "execution_count": null,
      "metadata": {
        "colab": {
          "base_uri": "https://localhost:8080/"
        },
        "id": "lcXxaa7TLfwh",
        "outputId": "7b935e73-1bb9-464d-8e0d-132da2c72b62"
      },
      "outputs": [
        {
          "output_type": "stream",
          "name": "stdout",
          "text": [
            "(300, 32, 32, 3)\n",
            "(300, 10)\n"
          ]
        }
      ],
      "source": [
        "create_data(dir_train, x_train, y_train)  \n",
        "x_train = np.array(x_train)\n",
        "y_train = np.array(y_train)\n",
        "y_train = np_utils.to_categorical(y_train, 10)\n",
        "print(x_train.shape)\n",
        "print(y_train.shape)"
      ]
    },
    {
      "cell_type": "code",
      "execution_count": null,
      "metadata": {
        "id": "Jv9yNh41Lky6"
      },
      "outputs": [],
      "source": [
        "model = Sequential()\n",
        "model.add(Conv2D(32, (3, 3), activation='relu', kernel_initializer='he_uniform', input_shape=(32, 32, 3)))\n",
        "model.add(MaxPooling2D((2, 2)))\n",
        "model.add(Flatten())\n",
        "model.add(Dense(100, activation='relu', kernel_initializer='he_uniform'))\n",
        "model.add(Dense(10, activation='softmax'))"
      ]
    },
    {
      "cell_type": "code",
      "execution_count": null,
      "metadata": {
        "id": "ynagsJTsLm9J"
      },
      "outputs": [],
      "source": [
        "from tensorflow.keras.optimizers import SGD"
      ]
    },
    {
      "cell_type": "code",
      "execution_count": null,
      "metadata": {
        "id": "yfndW6TRLnax",
        "colab": {
          "base_uri": "https://localhost:8080/"
        },
        "outputId": "81ee697f-19f9-4667-d072-f0b14ed49a53"
      },
      "outputs": [
        {
          "output_type": "stream",
          "name": "stdout",
          "text": [
            "Epoch 1/30\n",
            "10/10 [==============================] - 1s 28ms/step - loss: 0.4762 - accuracy: 0.0767\n",
            "Epoch 2/30\n",
            "10/10 [==============================] - 0s 29ms/step - loss: 0.3602 - accuracy: 0.1167\n",
            "Epoch 3/30\n",
            "10/10 [==============================] - 0s 27ms/step - loss: 0.3386 - accuracy: 0.1100\n",
            "Epoch 4/30\n",
            "10/10 [==============================] - 0s 27ms/step - loss: 0.3225 - accuracy: 0.2000\n",
            "Epoch 5/30\n",
            "10/10 [==============================] - 0s 28ms/step - loss: 0.3114 - accuracy: 0.3267\n",
            "Epoch 6/30\n",
            "10/10 [==============================] - 0s 28ms/step - loss: 0.3002 - accuracy: 0.3167\n",
            "Epoch 7/30\n",
            "10/10 [==============================] - 0s 28ms/step - loss: 0.2905 - accuracy: 0.4133\n",
            "Epoch 8/30\n",
            "10/10 [==============================] - 0s 28ms/step - loss: 0.2823 - accuracy: 0.4500\n",
            "Epoch 9/30\n",
            "10/10 [==============================] - 0s 28ms/step - loss: 0.2731 - accuracy: 0.4900\n",
            "Epoch 10/30\n",
            "10/10 [==============================] - 0s 27ms/step - loss: 0.2683 - accuracy: 0.4900\n",
            "Epoch 11/30\n",
            "10/10 [==============================] - 0s 26ms/step - loss: 0.2623 - accuracy: 0.4600\n",
            "Epoch 12/30\n",
            "10/10 [==============================] - 0s 26ms/step - loss: 0.2521 - accuracy: 0.5900\n",
            "Epoch 13/30\n",
            "10/10 [==============================] - 0s 28ms/step - loss: 0.2492 - accuracy: 0.5200\n",
            "Epoch 14/30\n",
            "10/10 [==============================] - 0s 27ms/step - loss: 0.2380 - accuracy: 0.5967\n",
            "Epoch 15/30\n",
            "10/10 [==============================] - 0s 26ms/step - loss: 0.2272 - accuracy: 0.6800\n",
            "Epoch 16/30\n",
            "10/10 [==============================] - 0s 28ms/step - loss: 0.2240 - accuracy: 0.6733\n",
            "Epoch 17/30\n",
            "10/10 [==============================] - 0s 28ms/step - loss: 0.2199 - accuracy: 0.6733\n",
            "Epoch 18/30\n",
            "10/10 [==============================] - 0s 27ms/step - loss: 0.2131 - accuracy: 0.7167\n",
            "Epoch 19/30\n",
            "10/10 [==============================] - 0s 27ms/step - loss: 0.2116 - accuracy: 0.6700\n",
            "Epoch 20/30\n",
            "10/10 [==============================] - 0s 27ms/step - loss: 0.1986 - accuracy: 0.7800\n",
            "Epoch 21/30\n",
            "10/10 [==============================] - 0s 27ms/step - loss: 0.1920 - accuracy: 0.7967\n",
            "Epoch 22/30\n",
            "10/10 [==============================] - 0s 26ms/step - loss: 0.1882 - accuracy: 0.7733\n",
            "Epoch 23/30\n",
            "10/10 [==============================] - 0s 30ms/step - loss: 0.1816 - accuracy: 0.7967\n",
            "Epoch 24/30\n",
            "10/10 [==============================] - 0s 28ms/step - loss: 0.1779 - accuracy: 0.7933\n",
            "Epoch 25/30\n",
            "10/10 [==============================] - 0s 26ms/step - loss: 0.1758 - accuracy: 0.7767\n",
            "Epoch 26/30\n",
            "10/10 [==============================] - 0s 27ms/step - loss: 0.1666 - accuracy: 0.8300\n",
            "Epoch 27/30\n",
            "10/10 [==============================] - 0s 27ms/step - loss: 0.1642 - accuracy: 0.8300\n",
            "Epoch 28/30\n",
            "10/10 [==============================] - 0s 28ms/step - loss: 0.1598 - accuracy: 0.8267\n",
            "Epoch 29/30\n",
            "10/10 [==============================] - 0s 28ms/step - loss: 0.1586 - accuracy: 0.8133\n",
            "Epoch 30/30\n",
            "10/10 [==============================] - 0s 27ms/step - loss: 0.1504 - accuracy: 0.8467\n"
          ]
        }
      ],
      "source": [
        "opt=SGD(learning_rate=0.01,momentum=0.9)\n",
        "model.compile(loss='binary_crossentropy',optimizer=opt, metrics=['accuracy'])\n",
        "history = model.fit(x_train,y_train,epochs = 30,batch_size= 30,verbose=1)"
      ]
    },
    {
      "cell_type": "code",
      "execution_count": null,
      "metadata": {
        "id": "0jeDEgatLp04",
        "colab": {
          "base_uri": "https://localhost:8080/"
        },
        "outputId": "c40932c0-bc39-410c-a487-5912ad304f55"
      },
      "outputs": [
        {
          "output_type": "stream",
          "name": "stdout",
          "text": [
            "INFO:tensorflow:Assets written to: CNN_Fruit_test/assets\n"
          ]
        }
      ],
      "source": [
        "model.save('CNN_Fruit_test')"
      ]
    },
    {
      "cell_type": "code",
      "execution_count": null,
      "metadata": {
        "id": "ZF0FaNdJLtdh"
      },
      "outputs": [],
      "source": [
        "from tensorflow.keras.utils import load_img\n",
        "from tensorflow.keras.utils import img_to_array\n",
        "from pathlib import Path\n",
        "from PIL import Image"
      ]
    },
    {
      "cell_type": "code",
      "execution_count": null,
      "metadata": {
        "id": "5_MVdRfXLv45",
        "colab": {
          "base_uri": "https://localhost:8080/",
          "height": 284
        },
        "outputId": "6b3a106d-9b58-4af1-d231-532bbc579434"
      },
      "outputs": [
        {
          "output_type": "execute_result",
          "data": {
            "text/plain": [
              "9"
            ]
          },
          "metadata": {},
          "execution_count": 21
        },
        {
          "output_type": "display_data",
          "data": {
            "text/plain": [
              "<Figure size 432x288 with 1 Axes>"
            ],
            "image/png": "[encoded data removed]"
          },
          "metadata": {
            "needs_background": "light"
          }
        }
      ],
      "source": [
        "img = load_img('/content/quaxoai.jpg',target_size=(32,32))\n",
        "plt.imshow(img)\n",
        "img = np.reshape(img,[1,32,32,3])\n",
        "img = img.astype('float32')\n",
        "img = img/255\n",
        "np.argmax(model.predict(img))"
      ]
    }
  ],
  "metadata": {
    "accelerator": "GPU",
    "colab": {
      "name": "CNN_Fruit",
      "provenance": [],
      "collapsed_sections": [],
      "authorship_tag": "ABX9TyOCst+H7j9H62i+PU2cJB7e",
      "include_colab_link": true
    },
    "kernelspec": {
      "display_name": "Python 3",
      "name": "python3"
    },
    "language_info": {
      "name": "python"
    }
  },
  "nbformat": 4,
  "nbformat_minor": 0
}