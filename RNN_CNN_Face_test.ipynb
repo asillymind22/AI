{
  "nbformat": 4,
  "nbformat_minor": 0,
  "metadata": {
    "colab": {
      "name": "RNN_CNN_Face_test",
      "provenance": [],
      "collapsed_sections": [],
      "authorship_tag": "ABX9TyM8u11beVuSGbwK1UuPNbJ8",
      "include_colab_link": true
    },
    "kernelspec": {
      "name": "python3",
      "display_name": "Python 3"
    },
    "language_info": {
      "name": "python"
    },
    "accelerator": "GPU"
  },
  "cells": [
    {
      "cell_type": "markdown",
      "metadata": {
        "id": "view-in-github",
        "colab_type": "text"
      },
      "source": [
        "<a href=\"https://colab.research.google.com/github/asillymind22/AI/blob/main/RNN_CNN_Face_test.ipynb\" target=\"_parent\"><img src=\"https://colab.research.google.com/assets/colab-badge.svg\" alt=\"Open In Colab\"/></a>"
      ]
    },
    {
      "cell_type": "code",
      "execution_count": null,
      "metadata": {
        "colab": {
          "base_uri": "https://localhost:8080/"
        },
        "id": "93Y3CFJ5Xlyr",
        "outputId": "8f6695c3-01bb-4d4a-c849-ee79ceeac4e6"
      },
      "outputs": [
        {
          "output_type": "stream",
          "name": "stdout",
          "text": [
            "Drive already mounted at /content/gdrive; to attempt to forcibly remount, call drive.mount(\"/content/gdrive\", force_remount=True).\n"
          ]
        }
      ],
      "source": [
        "from google.colab import drive\n",
        "drive.mount('/content/gdrive')"
      ]
    },
    {
      "cell_type": "code",
      "source": [
        "from keras import datasets, Sequential\n",
        "from keras.layers import Conv2D, Dense, MaxPooling2D, Flatten\n",
        "import matplotlib.pyplot as plt\n",
        "from sklearn.metrics import confusion_matrix\n",
        "import numpy as np\n",
        "from keras.utils import np_utils\n",
        "from keras.datasets import cifar10\n",
        "import matplotlib.pyplot as plt\n",
        "from keras.preprocessing import  image\n",
        "from keras.preprocessing.image import load_img, img_to_array,array_to_img,ImageDataGenerator\n",
        "import numpy as np\n",
        "import os\n",
        "from keras.models import Sequential\n",
        "from keras.layers import Dense, Activation, Dropout"
      ],
      "metadata": {
        "id": "qmSvqABPXoJT"
      },
      "execution_count": null,
      "outputs": []
    },
    {
      "cell_type": "code",
      "source": [
        "danhsach = ['Domixi','Me']\n",
        "!ls /content/gdrive/MyDrive/AIDRIVE/DetectFace"
      ],
      "metadata": {
        "colab": {
          "base_uri": "https://localhost:8080/"
        },
        "id": "Bc7OJ4mGXpJ9",
        "outputId": "b6164333-2eae-483e-9603-b3bfff9a93bc"
      },
      "execution_count": null,
      "outputs": [
        {
          "output_type": "stream",
          "name": "stdout",
          "text": [
            "Domixi\tMe\n"
          ]
        }
      ]
    },
    {
      "cell_type": "code",
      "source": [
        "dir_train = '/content/gdrive/MyDrive/AIDRIVE/DetectFace'"
      ],
      "metadata": {
        "id": "3dc9c_d8Xq51"
      },
      "execution_count": null,
      "outputs": []
    },
    {
      "cell_type": "code",
      "source": [
        "distpath = []\n",
        "y_train = []\n",
        "x_train = []\n",
        "x_test = []\n",
        "y_test = []\n",
        "def create_data(dir, x_train, y_train):\n",
        "  for i in danhsach:\n",
        "    path = os.path.join(dir,i)\n",
        "    index_label = danhsach.index(i)\n",
        "    for j in os.listdir(path):\n",
        "      img_path = os.path.join(path, j)\n",
        "      img = image.load_img(img_path, target_size=(32,32)) \n",
        "      img = img_to_array(img)\n",
        "      img = img.reshape(32,32,3)\n",
        "      img = img.astype('float32')\n",
        "      img = img/255\n",
        "      x_train.append(img)\n",
        "      y_train.append(index_label)\n"
      ],
      "metadata": {
        "id": "WUNNm7t0Xs0u"
      },
      "execution_count": null,
      "outputs": []
    },
    {
      "cell_type": "code",
      "source": [
        "create_data(dir_train, x_train, y_train)  \n",
        "x_train = np.array(x_train)\n",
        "y_train = np.array(y_train)\n",
        "y_train = np_utils.to_categorical(y_train, 2)\n",
        "print(x_train.shape)\n",
        "print(y_train.shape)"
      ],
      "metadata": {
        "colab": {
          "base_uri": "https://localhost:8080/"
        },
        "id": "R-MMIVf7Xtft",
        "outputId": "e303dd24-bbd5-4810-8b27-6399c1f345e7"
      },
      "execution_count": null,
      "outputs": [
        {
          "output_type": "stream",
          "name": "stdout",
          "text": [
            "(124, 32, 32, 3)\n",
            "(124, 2)\n"
          ]
        }
      ]
    },
    {
      "cell_type": "code",
      "source": [
        "model = Sequential()\n",
        "model.add(Conv2D(32,(3,3), activation='relu',kernel_initializer='he_uniform',padding='same', input_shape=(32, 32, 3)))\n",
        "model.add(Conv2D(32, (3, 3), activation='relu', kernel_initializer='he_uniform', padding='same'))\n",
        "model.add(MaxPooling2D((2, 2)))\n",
        "model.add(Conv2D(64, (3, 3), activation='relu', kernel_initializer='he_uniform', padding='same'))\n",
        "model.add(Conv2D(64, (3, 3), activation='relu', kernel_initializer='he_uniform', padding='same'))\n",
        "model.add(MaxPooling2D((2, 2)))\n",
        "model.add(Conv2D(128, (3, 3), activation='relu', kernel_initializer='he_uniform', padding='same'))\n",
        "model.add(Conv2D(128, (3, 3), activation='relu', kernel_initializer='he_uniform', padding='same'))\n",
        "model.add(MaxPooling2D((2, 2)))\n",
        "model.add(Flatten())\n",
        "model.add(Dense(2,activation='softmax'))\n"
      ],
      "metadata": {
        "id": "0MeQpifJXute"
      },
      "execution_count": null,
      "outputs": []
    },
    {
      "cell_type": "code",
      "source": [
        "# RNN\n",
        "# model = Sequential()\n",
        "\n",
        "# model.add(Dense(1024, activation ='relu', input_shape=(1024,)))\n",
        "# model.add(Dropout(0.2))\n",
        "# model.add(Dense(512, activation ='relu'))\n",
        "# model.add(Dropout(0.1))\n",
        "# model.add(Dense(2, activation ='softmax'))\n",
        "# model.summary()"
      ],
      "metadata": {
        "id": "SEEZ3ekPZ3gO"
      },
      "execution_count": null,
      "outputs": []
    },
    {
      "cell_type": "code",
      "source": [
        "from tensorflow.keras.optimizers import SGD"
      ],
      "metadata": {
        "id": "glIj7OK0Xx-H"
      },
      "execution_count": null,
      "outputs": []
    },
    {
      "cell_type": "code",
      "source": [
        "opt=SGD(learning_rate=0.01,momentum=0.9)\n",
        "model.compile(loss='binary_crossentropy',optimizer=opt, metrics=['accuracy'])\n",
        "history = model.fit(x_train,y_train,epochs = 30,batch_size= 10,verbose=1)"
      ],
      "metadata": {
        "colab": {
          "base_uri": "https://localhost:8080/"
        },
        "id": "Bxah8l0EXzFG",
        "outputId": "c87d1954-6838-4ed3-ea52-fc1193e56d9d"
      },
      "execution_count": null,
      "outputs": [
        {
          "output_type": "stream",
          "name": "stdout",
          "text": [
            "Epoch 1/30\n",
            "13/13 [==============================] - 2s 98ms/step - loss: 0.5944 - accuracy: 0.7177\n",
            "Epoch 2/30\n",
            "13/13 [==============================] - 1s 94ms/step - loss: 0.3565 - accuracy: 0.8871\n",
            "Epoch 3/30\n",
            "13/13 [==============================] - 1s 94ms/step - loss: 0.2221 - accuracy: 0.9355\n",
            "Epoch 4/30\n",
            "13/13 [==============================] - 1s 96ms/step - loss: 0.2390 - accuracy: 0.9032\n",
            "Epoch 5/30\n",
            "13/13 [==============================] - 1s 93ms/step - loss: 0.0095 - accuracy: 1.0000\n",
            "Epoch 6/30\n",
            "13/13 [==============================] - 1s 98ms/step - loss: 2.8760e-04 - accuracy: 1.0000\n",
            "Epoch 7/30\n",
            "13/13 [==============================] - 1s 93ms/step - loss: 4.8383e-05 - accuracy: 1.0000\n",
            "Epoch 8/30\n",
            "13/13 [==============================] - 1s 93ms/step - loss: 8.2157e-05 - accuracy: 1.0000\n",
            "Epoch 9/30\n",
            "13/13 [==============================] - 1s 91ms/step - loss: 4.0741e-05 - accuracy: 1.0000\n",
            "Epoch 10/30\n",
            "13/13 [==============================] - 1s 93ms/step - loss: 1.8037e-05 - accuracy: 1.0000\n",
            "Epoch 11/30\n",
            "13/13 [==============================] - 1s 93ms/step - loss: 1.3929e-05 - accuracy: 1.0000\n",
            "Epoch 12/30\n",
            "13/13 [==============================] - 1s 93ms/step - loss: 1.0615e-05 - accuracy: 1.0000\n",
            "Epoch 13/30\n",
            "13/13 [==============================] - 1s 98ms/step - loss: 9.4684e-06 - accuracy: 1.0000\n",
            "Epoch 14/30\n",
            "13/13 [==============================] - 1s 96ms/step - loss: 8.2678e-06 - accuracy: 1.0000\n",
            "Epoch 15/30\n",
            "13/13 [==============================] - 1s 96ms/step - loss: 7.3274e-06 - accuracy: 1.0000\n",
            "Epoch 16/30\n",
            "13/13 [==============================] - 1s 98ms/step - loss: 6.7808e-06 - accuracy: 1.0000\n",
            "Epoch 17/30\n",
            "13/13 [==============================] - 1s 94ms/step - loss: 6.2806e-06 - accuracy: 1.0000\n",
            "Epoch 18/30\n",
            "13/13 [==============================] - 1s 94ms/step - loss: 5.6832e-06 - accuracy: 1.0000\n",
            "Epoch 19/30\n",
            "13/13 [==============================] - 1s 92ms/step - loss: 5.3337e-06 - accuracy: 1.0000\n",
            "Epoch 20/30\n",
            "13/13 [==============================] - 1s 97ms/step - loss: 4.9099e-06 - accuracy: 1.0000\n",
            "Epoch 21/30\n",
            "13/13 [==============================] - 1s 94ms/step - loss: 4.6221e-06 - accuracy: 1.0000\n",
            "Epoch 22/30\n",
            "13/13 [==============================] - 1s 94ms/step - loss: 4.4065e-06 - accuracy: 1.0000\n",
            "Epoch 23/30\n",
            "13/13 [==============================] - 1s 96ms/step - loss: 4.1247e-06 - accuracy: 1.0000\n",
            "Epoch 24/30\n",
            "13/13 [==============================] - 1s 96ms/step - loss: 3.9344e-06 - accuracy: 1.0000\n",
            "Epoch 25/30\n",
            "13/13 [==============================] - 1s 92ms/step - loss: 3.7809e-06 - accuracy: 1.0000\n",
            "Epoch 26/30\n",
            "13/13 [==============================] - 1s 95ms/step - loss: 3.6097e-06 - accuracy: 1.0000\n",
            "Epoch 27/30\n",
            "13/13 [==============================] - 1s 96ms/step - loss: 3.4526e-06 - accuracy: 1.0000\n",
            "Epoch 28/30\n",
            "13/13 [==============================] - 1s 97ms/step - loss: 3.3511e-06 - accuracy: 1.0000\n",
            "Epoch 29/30\n",
            "13/13 [==============================] - 1s 98ms/step - loss: 3.2460e-06 - accuracy: 1.0000\n",
            "Epoch 30/30\n",
            "13/13 [==============================] - 1s 94ms/step - loss: 3.1165e-06 - accuracy: 1.0000\n"
          ]
        }
      ]
    },
    {
      "cell_type": "code",
      "source": [
        "model.save('CNN_Face_test')"
      ],
      "metadata": {
        "colab": {
          "base_uri": "https://localhost:8080/"
        },
        "id": "lL06pWOSX0rl",
        "outputId": "49fad594-f4cd-40b6-af64-ababdbfca80e"
      },
      "execution_count": null,
      "outputs": [
        {
          "output_type": "stream",
          "name": "stdout",
          "text": [
            "INFO:tensorflow:Assets written to: CNN_Face_test/assets\n"
          ]
        }
      ]
    },
    {
      "cell_type": "code",
      "source": [
        "# model.save('CNN_Face_test')"
      ],
      "metadata": {
        "id": "l-pQYZJpaykV"
      },
      "execution_count": null,
      "outputs": []
    },
    {
      "cell_type": "code",
      "source": [
        "from tensorflow.keras.utils import load_img\n",
        "from tensorflow.keras.utils import img_to_array\n",
        "from pathlib import Path\n",
        "from PIL import Image"
      ],
      "metadata": {
        "id": "SPYpL3pkX4AX"
      },
      "execution_count": null,
      "outputs": []
    },
    {
      "cell_type": "code",
      "source": [
        "img = load_img('/content/me.jpg',target_size=(32,32))\n",
        "plt.imshow(img)\n",
        "img = np.reshape(img,[1,32,32,3])\n",
        "img = img.astype('float32')\n",
        "img = img/255\n",
        "np.argmax(model.predict(img))"
      ],
      "metadata": {
        "colab": {
          "base_uri": "https://localhost:8080/",
          "height": 284
        },
        "id": "fwrk5EYfX4dN",
        "outputId": "14205a1e-ede2-4fb8-968f-03fdaa4d01a7"
      },
      "execution_count": null,
      "outputs": [
        {
          "output_type": "execute_result",
          "data": {
            "text/plain": [
              "0"
            ]
          },
          "metadata": {},
          "execution_count": 115
        },
        {
          "output_type": "display_data",
          "data": {
            "text/plain": [
              "<Figure size 432x288 with 1 Axes>"
            ],
            "image/png": "[encoded data removed]"
          },
          "metadata": {
            "needs_background": "light"
          }
        }
      ]
    },
    {
      "cell_type": "code",
      "source": [
        "# RNN test\n",
        "# img = load_img('/content/me.jpg', grayscale=True, target_size=(32,32))\n",
        "# plt.imshow(img)\n",
        "# img = img_to_array(img)\n",
        "# img = np.reshape(img,[1,1024])\n",
        "# img = img.astype('float32')\n",
        "# img = img / 255.0\n",
        "# np.argmax(model.predict(img))"
      ],
      "metadata": {
        "id": "u1VDcbUJaStv"
      },
      "execution_count": null,
      "outputs": []
    }
  ]
}